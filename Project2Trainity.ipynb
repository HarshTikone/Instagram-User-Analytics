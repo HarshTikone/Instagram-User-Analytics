{
  "cells": [
    {
      "cell_type": "code",
      "execution_count": null,
      "id": "a56d95aa-4056-4476-8df0-04002c3c0e8e",
      "metadata": {
        "tags": [],
        "id": "a56d95aa-4056-4476-8df0-04002c3c0e8e"
      },
      "outputs": [],
      "source": [
        "#!pip install sqlalchemy\n",
        "#!pip install mysqlclient\n",
        "#!pip install pandas"
      ]
    },
    {
      "cell_type": "code",
      "execution_count": null,
      "id": "5ee5ad85-da16-400d-96a4-7c6cd4f46e8e",
      "metadata": {
        "tags": [],
        "id": "5ee5ad85-da16-400d-96a4-7c6cd4f46e8e"
      },
      "outputs": [],
      "source": [
        "import pandas as pd"
      ]
    },
    {
      "cell_type": "code",
      "execution_count": null,
      "id": "9d8f78ef-4c2e-4228-9097-e5b6460d56e0",
      "metadata": {
        "tags": [],
        "id": "9d8f78ef-4c2e-4228-9097-e5b6460d56e0"
      },
      "outputs": [],
      "source": [
        "import sqlalchemy as sa\n",
        "from sqlalchemy import create_engine,text\n",
        "\n",
        "connection_url = sa.engine.URL.create(\n",
        "    drivername=\"mysql\",\n",
        "    username=\"root\",\n",
        "    password=\"Root@123\",\n",
        "    host=\"localhost\",\n",
        "    database=\"ig_clone\",\n",
        ")\n",
        "mydb = create_engine(connection_url)"
      ]
    },
    {
      "cell_type": "code",
      "execution_count": null,
      "id": "50455f9a-0479-4f1b-8aec-0293b6dc8d6b",
      "metadata": {
        "tags": [],
        "id": "50455f9a-0479-4f1b-8aec-0293b6dc8d6b"
      },
      "outputs": [],
      "source": [
        "query = 'SHOW TABLES'"
      ]
    },
    {
      "cell_type": "code",
      "execution_count": null,
      "id": "422e167b-5b02-4b82-bf51-cd4d62470add",
      "metadata": {
        "tags": [],
        "id": "422e167b-5b02-4b82-bf51-cd4d62470add",
        "outputId": "09147b76-a648-4a55-fc4b-1e825c932e37"
      },
      "outputs": [
        {
          "name": "stdout",
          "output_type": "stream",
          "text": [
            "   Tables_in_ig_clone\n",
            "0            comments\n",
            "1             follows\n",
            "2               likes\n",
            "3          photo_tags\n",
            "4              photos\n",
            "5     photos_by_users\n",
            "6              ques_3\n",
            "7          ques_3_new\n",
            "8              ques_4\n",
            "9              ques_5\n",
            "10               tags\n",
            "11              users\n"
          ]
        }
      ],
      "source": [
        "show_tables_df = pd.read_sql(query, mydb)\n",
        "print(show_tables_df)"
      ]
    },
    {
      "cell_type": "code",
      "execution_count": null,
      "id": "d3af1cfe-194c-471a-b8ff-a41248ac3e24",
      "metadata": {
        "tags": [],
        "id": "d3af1cfe-194c-471a-b8ff-a41248ac3e24"
      },
      "outputs": [],
      "source": [
        "query = \"SELECT * FROM users ORDER BY created_at\""
      ]
    },
    {
      "cell_type": "code",
      "execution_count": null,
      "id": "11d57a8c-24b5-48ce-ae57-ba8e50176b65",
      "metadata": {
        "tags": [],
        "id": "11d57a8c-24b5-48ce-ae57-ba8e50176b65",
        "outputId": "46070729-1ed4-40e4-caf0-56357e0fb5c9"
      },
      "outputs": [
        {
          "name": "stdout",
          "output_type": "stream",
          "text": [
            "    id             username          created_at\n",
            "0   80         Darby_Herzog 2016-05-06 00:14:21\n",
            "1   67     Emilio_Bernier52 2016-05-06 13:04:30\n",
            "2   63             Elenor88 2016-05-08 01:30:41\n",
            "3   95             Nicole71 2016-05-09 17:30:22\n",
            "4   38     Jordyn.Jacobson2 2016-05-14 07:56:26\n",
            "..  ..                  ...                 ...\n",
            "95  24    Maxwell.Halvorson 2017-04-18 02:32:44\n",
            "96  19             Hailee26 2017-04-29 18:53:40\n",
            "97  85  Milford_Gleichner42 2017-04-30 07:50:51\n",
            "98   6        Travon.Waters 2017-04-30 13:26:14\n",
            "99  11    Justina.Gaylord27 2017-05-04 16:32:16\n",
            "\n",
            "[100 rows x 3 columns]\n"
          ]
        }
      ],
      "source": [
        "que_1_df = pd.read_sql(query,mydb)\n",
        "print(que_1_df)"
      ]
    },
    {
      "cell_type": "code",
      "execution_count": null,
      "id": "d9d2f5d7-bec1-4432-ae4b-6c6f5bd748a4",
      "metadata": {
        "tags": [],
        "id": "d9d2f5d7-bec1-4432-ae4b-6c6f5bd748a4",
        "outputId": "0cbb46b2-b5f1-4210-ea51-d98a57dfb4fc"
      },
      "outputs": [
        {
          "data": {
            "text/html": [
              "<div>\n",
              "<style scoped>\n",
              "    .dataframe tbody tr th:only-of-type {\n",
              "        vertical-align: middle;\n",
              "    }\n",
              "\n",
              "    .dataframe tbody tr th {\n",
              "        vertical-align: top;\n",
              "    }\n",
              "\n",
              "    .dataframe thead th {\n",
              "        text-align: right;\n",
              "    }\n",
              "</style>\n",
              "<table border=\"1\" class=\"dataframe\">\n",
              "  <thead>\n",
              "    <tr style=\"text-align: right;\">\n",
              "      <th></th>\n",
              "      <th>id</th>\n",
              "      <th>username</th>\n",
              "      <th>created_at</th>\n",
              "    </tr>\n",
              "  </thead>\n",
              "  <tbody>\n",
              "    <tr>\n",
              "      <th>0</th>\n",
              "      <td>80</td>\n",
              "      <td>Darby_Herzog</td>\n",
              "      <td>2016-05-06 00:14:21</td>\n",
              "    </tr>\n",
              "    <tr>\n",
              "      <th>1</th>\n",
              "      <td>67</td>\n",
              "      <td>Emilio_Bernier52</td>\n",
              "      <td>2016-05-06 13:04:30</td>\n",
              "    </tr>\n",
              "    <tr>\n",
              "      <th>2</th>\n",
              "      <td>63</td>\n",
              "      <td>Elenor88</td>\n",
              "      <td>2016-05-08 01:30:41</td>\n",
              "    </tr>\n",
              "    <tr>\n",
              "      <th>3</th>\n",
              "      <td>95</td>\n",
              "      <td>Nicole71</td>\n",
              "      <td>2016-05-09 17:30:22</td>\n",
              "    </tr>\n",
              "    <tr>\n",
              "      <th>4</th>\n",
              "      <td>38</td>\n",
              "      <td>Jordyn.Jacobson2</td>\n",
              "      <td>2016-05-14 07:56:26</td>\n",
              "    </tr>\n",
              "  </tbody>\n",
              "</table>\n",
              "</div>"
            ],
            "text/plain": [
              "   id          username          created_at\n",
              "0  80      Darby_Herzog 2016-05-06 00:14:21\n",
              "1  67  Emilio_Bernier52 2016-05-06 13:04:30\n",
              "2  63          Elenor88 2016-05-08 01:30:41\n",
              "3  95          Nicole71 2016-05-09 17:30:22\n",
              "4  38  Jordyn.Jacobson2 2016-05-14 07:56:26"
            ]
          },
          "execution_count": 264,
          "metadata": {},
          "output_type": "execute_result"
        }
      ],
      "source": [
        "que_1_df.head(5)"
      ]
    },
    {
      "cell_type": "code",
      "execution_count": null,
      "id": "92b0fc32-c210-4530-a5e3-7720265684f8",
      "metadata": {
        "tags": [],
        "id": "92b0fc32-c210-4530-a5e3-7720265684f8"
      },
      "outputs": [],
      "source": [
        "query = \"SELECT * FROM photos\""
      ]
    },
    {
      "cell_type": "code",
      "execution_count": null,
      "id": "c0d89e1a-e62f-4de6-a714-14f39d15df9f",
      "metadata": {
        "tags": [],
        "id": "c0d89e1a-e62f-4de6-a714-14f39d15df9f",
        "outputId": "a8b0a4bd-7135-408f-961a-9a864a947040"
      },
      "outputs": [
        {
          "name": "stdout",
          "output_type": "stream",
          "text": [
            "      id             image_url  user_id         created_dat\n",
            "0      1     http://elijah.biz        1 2023-05-14 20:36:41\n",
            "1      2    https://shanon.org        1 2023-05-14 20:36:41\n",
            "2      3      http://vicky.biz        1 2023-05-14 20:36:41\n",
            "3      4      http://oleta.net        1 2023-05-14 20:36:41\n",
            "4      5  https://jennings.biz        1 2023-05-14 20:36:41\n",
            "..   ...                   ...      ...                 ...\n",
            "252  253   http://ryleigh.info       99 2023-05-14 20:36:41\n",
            "253  254   https://darien.name       99 2023-05-14 20:36:41\n",
            "254  255   https://xzavier.org       99 2023-05-14 20:36:41\n",
            "255  256    https://kaela.name      100 2023-05-14 20:36:41\n",
            "256  257   http://dedrick.info      100 2023-05-14 20:36:41\n",
            "\n",
            "[257 rows x 4 columns]\n"
          ]
        }
      ],
      "source": [
        "que_2_df = pd.read_sql(query,mydb)\n",
        "print(que_2_df)"
      ]
    },
    {
      "cell_type": "code",
      "execution_count": null,
      "id": "3f3a3967-4e22-4b8d-a6d7-3be02d30da05",
      "metadata": {
        "tags": [],
        "id": "3f3a3967-4e22-4b8d-a6d7-3be02d30da05"
      },
      "outputs": [],
      "source": [
        "query = '''CREATE TABLE photos_by_users AS\n",
        "SELECT user_id, COUNT(user_id) AS no_photos\n",
        "FROM photos\n",
        "GROUP BY user_id\n",
        "HAVING COUNT(user_id) > 0;'''\n",
        "\n",
        "que_2_df = pd.read_sql(query,mydb)\n",
        "print(que_2_df)"
      ]
    },
    {
      "cell_type": "code",
      "execution_count": null,
      "id": "45d15f56-594e-4f9a-927c-cfc7c10e5f01",
      "metadata": {
        "tags": [],
        "id": "45d15f56-594e-4f9a-927c-cfc7c10e5f01"
      },
      "outputs": [],
      "source": [
        "query = '''SELECT * FROM photos_by_users;'''"
      ]
    },
    {
      "cell_type": "code",
      "execution_count": null,
      "id": "930705bd-df43-434c-b8c2-70b823dab8a4",
      "metadata": {
        "tags": [],
        "id": "930705bd-df43-434c-b8c2-70b823dab8a4"
      },
      "outputs": [],
      "source": [
        "que_2_df = pd.read_sql(query,mydb)\n",
        "print(que_2_df)"
      ]
    },
    {
      "cell_type": "code",
      "execution_count": null,
      "id": "d110e479-a775-46ae-a12b-45232c5b9734",
      "metadata": {
        "tags": [],
        "id": "d110e479-a775-46ae-a12b-45232c5b9734"
      },
      "outputs": [],
      "source": [
        "query = '''SELECT * FROM users;'''"
      ]
    },
    {
      "cell_type": "code",
      "execution_count": null,
      "id": "d2385b46-8c98-47d6-896f-ceb39f56bd83",
      "metadata": {
        "tags": [],
        "id": "d2385b46-8c98-47d6-896f-ceb39f56bd83",
        "outputId": "65447cdd-f3e9-4be9-95f1-d083169a5b7b"
      },
      "outputs": [
        {
          "name": "stdout",
          "output_type": "stream",
          "text": [
            "     id              username          created_at\n",
            "0     1         Kenton_Kirlin 2017-02-16 18:22:11\n",
            "1     2         Andre_Purdy85 2017-04-02 17:11:21\n",
            "2     3         Harley_Lind18 2017-02-21 11:12:33\n",
            "3     4         Arely_Bogan63 2016-08-13 01:28:43\n",
            "4     5         Aniya_Hackett 2016-12-07 01:04:39\n",
            "..  ...                   ...                 ...\n",
            "95   96  Keenan.Schamberger60 2016-08-28 14:57:28\n",
            "96   97        Tomas.Beatty93 2017-02-11 11:38:55\n",
            "97   98       Imani_Nicolas17 2017-01-31 22:59:34\n",
            "98   99          Alek_Watsica 2016-12-10 07:43:58\n",
            "99  100             Javonte83 2017-03-27 22:06:37\n",
            "\n",
            "[100 rows x 3 columns]\n"
          ]
        }
      ],
      "source": [
        "que_2_df = pd.read_sql(query,mydb)\n",
        "print(que_2_df)"
      ]
    },
    {
      "cell_type": "code",
      "execution_count": null,
      "id": "f68bf6ca-b421-4f19-963a-b230028451af",
      "metadata": {
        "tags": [],
        "id": "f68bf6ca-b421-4f19-963a-b230028451af"
      },
      "outputs": [],
      "source": [
        "query = '''SELECT users.id ,users.username\n",
        "FROM photos_by_users\n",
        "RIGHT JOIN users ON users.id =  photos_by_users.user_id\n",
        "WHERE photos_by_users.no_photos IS NULL;'''"
      ]
    },
    {
      "cell_type": "code",
      "execution_count": null,
      "id": "563b2b04-a554-42fc-ac23-fef8bc85ac6a",
      "metadata": {
        "tags": [],
        "id": "563b2b04-a554-42fc-ac23-fef8bc85ac6a",
        "outputId": "46a063a9-0683-441f-87d6-45835f829b37"
      },
      "outputs": [
        {
          "name": "stdout",
          "output_type": "stream",
          "text": [
            "Users that never posted\n",
            "    id             username\n",
            "0    5        Aniya_Hackett\n",
            "1    7    Kasandra_Homenick\n",
            "2   14             Jaclyn81\n",
            "3   21              Rocio33\n",
            "4   24    Maxwell.Halvorson\n",
            "5   25       Tierra.Trantow\n",
            "6   34               Pearl7\n",
            "7   36       Ollie_Ledner37\n",
            "8   41            Mckenna17\n",
            "9   45      David.Osinski47\n",
            "10  49      Morgan.Kassulke\n",
            "11  53             Linnea59\n",
            "12  54              Duane60\n",
            "13  57       Julien_Schmidt\n",
            "14  66          Mike.Auer39\n",
            "15  68     Franco_Keebler64\n",
            "16  71             Nia_Haag\n",
            "17  74     Hulda.Macejkovic\n",
            "18  75             Leslie67\n",
            "19  76   Janelle.Nikolaus81\n",
            "20  80         Darby_Herzog\n",
            "21  81      Esther.Zulauf61\n",
            "22  83  Bartholome.Bernhard\n",
            "23  89         Jessyca_West\n",
            "24  90     Esmeralda.Mraz57\n",
            "25  91            Bethany20\n"
          ]
        }
      ],
      "source": [
        "que_2_df = pd.read_sql(query,mydb)\n",
        "print(\"Users that never posted\")\n",
        "print(que_2_df)"
      ]
    },
    {
      "cell_type": "code",
      "execution_count": null,
      "id": "42d4591a-47b4-4b3b-8eb8-70d204557594",
      "metadata": {
        "tags": [],
        "id": "42d4591a-47b4-4b3b-8eb8-70d204557594"
      },
      "outputs": [],
      "source": [
        "query = '''SELECT * from likes'''"
      ]
    },
    {
      "cell_type": "code",
      "execution_count": null,
      "id": "64434b2f-0e13-40ec-911e-fb4a363c3dc5",
      "metadata": {
        "tags": [],
        "id": "64434b2f-0e13-40ec-911e-fb4a363c3dc5",
        "outputId": "ca2b7b65-639a-445d-b9d0-fe8f24514b93"
      },
      "outputs": [
        {
          "name": "stdout",
          "output_type": "stream",
          "text": [
            "   user_id  photo_id          created_at\n",
            "0        2         1 2023-05-14 20:36:41\n",
            "1        2         4 2023-05-14 20:36:41\n",
            "2        2         8 2023-05-14 20:36:41\n",
            "3        2         9 2023-05-14 20:36:41\n",
            "4        2        10 2023-05-14 20:36:41\n",
            "5        2        11 2023-05-14 20:36:41\n",
            "6        2        12 2023-05-14 20:36:41\n",
            "7        2        13 2023-05-14 20:36:41\n",
            "8        2        15 2023-05-14 20:36:41\n",
            "9        2        23 2023-05-14 20:36:41\n"
          ]
        }
      ],
      "source": [
        "que_3_df = pd.read_sql(query,mydb)\n",
        "print(que_3_df.head(10))"
      ]
    },
    {
      "cell_type": "code",
      "execution_count": null,
      "id": "09462a0e-3238-4ccf-bb51-fe54982afa9a",
      "metadata": {
        "tags": [],
        "id": "09462a0e-3238-4ccf-bb51-fe54982afa9a",
        "outputId": "b39a2b99-65be-41d9-8528-5f52a3bdfb0d"
      },
      "outputs": [
        {
          "name": "stdout",
          "output_type": "stream",
          "text": [
            "   id             image_url  user_id         created_dat\n",
            "0   1     http://elijah.biz        1 2023-05-14 20:36:41\n",
            "1   2    https://shanon.org        1 2023-05-14 20:36:41\n",
            "2   3      http://vicky.biz        1 2023-05-14 20:36:41\n",
            "3   4      http://oleta.net        1 2023-05-14 20:36:41\n",
            "4   5  https://jennings.biz        1 2023-05-14 20:36:41\n",
            "5   6     https://quinn.biz        2 2023-05-14 20:36:41\n",
            "6   7   https://selina.name        2 2023-05-14 20:36:41\n",
            "7   8    http://malvina.org        2 2023-05-14 20:36:41\n",
            "8   9   https://branson.biz        2 2023-05-14 20:36:41\n",
            "9  10   https://elenor.name        3 2023-05-14 20:36:41\n"
          ]
        }
      ],
      "source": [
        "query = '''SELECT * from photos'''\n",
        "que_3_df = pd.read_sql(query,mydb)\n",
        "print(que_3_df.head(10))"
      ]
    },
    {
      "cell_type": "code",
      "execution_count": null,
      "id": "1656c34e-fa39-4be9-b12c-023f69915567",
      "metadata": {
        "tags": [],
        "id": "1656c34e-fa39-4be9-b12c-023f69915567"
      },
      "outputs": [],
      "source": [
        "query = '''CREATE TABLE ques_3 AS\n",
        "SELECT photo_id, COUNT(user_id) AS no_likes\n",
        "FROM likes\n",
        "GROUP BY photo_id\n",
        "HAVING COUNT(user_id) > 0\n",
        "ORDER BY no_likes DESC ;'''\n",
        "que_3_df = pd.read_sql(query,mydb)\n",
        "print(que_3_df)"
      ]
    },
    {
      "cell_type": "code",
      "execution_count": null,
      "id": "63379bb6-38cf-4c51-b21b-f56171f52da9",
      "metadata": {
        "tags": [],
        "id": "63379bb6-38cf-4c51-b21b-f56171f52da9"
      },
      "outputs": [],
      "source": [
        "query = '''SELECT * from ques_3'''\n",
        "que_3_df = pd.read_sql(query,mydb)\n",
        "print(que_3_df.head(10))"
      ]
    },
    {
      "cell_type": "code",
      "execution_count": null,
      "id": "e46599d9-6f6a-4309-b32c-ee34a0e6d2dd",
      "metadata": {
        "tags": [],
        "id": "e46599d9-6f6a-4309-b32c-ee34a0e6d2dd"
      },
      "outputs": [],
      "source": [
        "query = '''\n",
        "CREATE TABLE ques_3_new AS\n",
        "SELECT photos.user_id,ques_3.photo_id, photos.image_url, ques_3.no_likes\n",
        "FROM photos\n",
        "LEFT JOIN ques_3 ON photos.id = ques_3.photo_id\n",
        "ORDER BY no_likes DESC;\n",
        "'''\n",
        "que_3_df = pd.read_sql(query,mydb)\n",
        "print(que_3_df)"
      ]
    },
    {
      "cell_type": "code",
      "execution_count": null,
      "id": "c3f3e820-7d36-4c25-be09-e0fb08ec8dec",
      "metadata": {
        "tags": [],
        "id": "c3f3e820-7d36-4c25-be09-e0fb08ec8dec",
        "outputId": "90da2e33-ad48-45fe-855a-aa0ef306e96d"
      },
      "outputs": [
        {
          "name": "stdout",
          "output_type": "stream",
          "text": [
            "     user_id  photo_id               image_url  no_likes\n",
            "0         52       145     https://jarret.name        48\n",
            "1         46       127  https://celestine.name        43\n",
            "2         65       182      https://dorcas.biz        43\n",
            "3         44       123      http://shannon.org        42\n",
            "4         10        30        http://kenny.com        41\n",
            "..       ...       ...                     ...       ...\n",
            "252       51       139      https://seamus.org        27\n",
            "253       88       238        http://adela.com        27\n",
            "254       72       195   http://marcellus.info        26\n",
            "255        1         1       http://elijah.biz        25\n",
            "256       86       223       http://howard.net        25\n",
            "\n",
            "[257 rows x 4 columns]\n"
          ]
        }
      ],
      "source": [
        "query = '''SELECT * FROM ques_3_new'''\n",
        "que_3_df = pd.read_sql(query,mydb)\n",
        "print(que_3_df)"
      ]
    },
    {
      "cell_type": "code",
      "execution_count": null,
      "id": "0f7c1cbc-7b28-49ef-b8c8-244c0a81ede3",
      "metadata": {
        "tags": [],
        "id": "0f7c1cbc-7b28-49ef-b8c8-244c0a81ede3",
        "outputId": "03c660c0-4e15-4b2e-e507-7485755a2519"
      },
      "outputs": [
        {
          "name": "stdout",
          "output_type": "stream",
          "text": [
            "Winner of the Contest\n",
            "   user_id       username  photo_id            image_url  no_likes\n",
            "0       52  Zack_Kemmer93       145  https://jarret.name        48\n"
          ]
        }
      ],
      "source": [
        "query = '''\n",
        "SELECT ques_3_new.user_id, users.username, ques_3_new.photo_id, ques_3_new.image_url ,ques_3_new.no_likes\n",
        "FROM ques_3_new\n",
        "LEFT JOIN users ON users.id = ques_3_new.user_id\n",
        "ORDER BY no_likes DESC;\n",
        "'''\n",
        "que_3_df = pd.read_sql(query,mydb)\n",
        "print(\"Winner of the Contest\")\n",
        "print(que_3_df.head(1))"
      ]
    },
    {
      "cell_type": "code",
      "execution_count": null,
      "id": "4c7a5573-a178-4431-a348-df97a687eb7f",
      "metadata": {
        "tags": [],
        "id": "4c7a5573-a178-4431-a348-df97a687eb7f",
        "outputId": "c4f60525-bb24-4de8-bc83-99d6e8ba4873"
      },
      "outputs": [
        {
          "name": "stdout",
          "output_type": "stream",
          "text": [
            "    id     tag_name          created_at\n",
            "0    1       sunset 2023-05-14 20:36:41\n",
            "1    2  photography 2023-05-14 20:36:41\n",
            "2    3      sunrise 2023-05-14 20:36:41\n",
            "3    4    landscape 2023-05-14 20:36:41\n",
            "4    5         food 2023-05-14 20:36:41\n",
            "5    6       foodie 2023-05-14 20:36:41\n",
            "6    7    delicious 2023-05-14 20:36:41\n",
            "7    8       beauty 2023-05-14 20:36:41\n",
            "8    9     stunning 2023-05-14 20:36:41\n",
            "9   10       dreamy 2023-05-14 20:36:41\n",
            "10  11          lol 2023-05-14 20:36:41\n",
            "11  12        happy 2023-05-14 20:36:41\n",
            "12  13          fun 2023-05-14 20:36:41\n",
            "13  14        style 2023-05-14 20:36:41\n",
            "14  15         hair 2023-05-14 20:36:41\n",
            "15  16      fashion 2023-05-14 20:36:41\n",
            "16  17        party 2023-05-14 20:36:41\n",
            "17  18      concert 2023-05-14 20:36:41\n",
            "18  19        drunk 2023-05-14 20:36:41\n",
            "19  20        beach 2023-05-14 20:36:41\n",
            "20  21        smile 2023-05-14 20:36:41\n"
          ]
        }
      ],
      "source": [
        "query = '''\n",
        "SELECT * FROM tags\n",
        "'''\n",
        "que_4_df = pd.read_sql(query,mydb)\n",
        "print(que_4_df)"
      ]
    },
    {
      "cell_type": "code",
      "execution_count": null,
      "id": "e5c59d93-40df-45b1-8fb7-1bdf32cf585f",
      "metadata": {
        "tags": [],
        "id": "e5c59d93-40df-45b1-8fb7-1bdf32cf585f",
        "outputId": "e464080a-4e4a-439b-9bf5-587ddc9bfebf"
      },
      "outputs": [
        {
          "name": "stdout",
          "output_type": "stream",
          "text": [
            "     photo_id  tag_id\n",
            "0          14       1\n",
            "1          21       1\n",
            "2          45       1\n",
            "3          75       1\n",
            "4          83       1\n",
            "..        ...     ...\n",
            "496       221      21\n",
            "497       226      21\n",
            "498       230      21\n",
            "499       232      21\n",
            "500       239      21\n",
            "\n",
            "[501 rows x 2 columns]\n"
          ]
        }
      ],
      "source": [
        "query = '''\n",
        "SELECT * FROM photo_tags;\n",
        "'''\n",
        "que_4_df = pd.read_sql(query,mydb)\n",
        "print(que_4_df)"
      ]
    },
    {
      "cell_type": "code",
      "execution_count": null,
      "id": "f834fad8-07f9-4e16-b25d-fee289b442e7",
      "metadata": {
        "tags": [],
        "id": "f834fad8-07f9-4e16-b25d-fee289b442e7"
      },
      "outputs": [],
      "source": [
        "query = '''CREATE TABLE ques_4 AS\n",
        "SELECT tag_id, COUNT(tag_id) AS no_tags\n",
        "FROM photo_tags\n",
        "GROUP BY tag_id\n",
        "HAVING COUNT(tag_id) > 0\n",
        "ORDER BY COUNT(tag_id) DESC;\n",
        "'''\n",
        "\n",
        "que_4_df = pd.read_sql(query,mydb)\n",
        "print(que_4_df)"
      ]
    },
    {
      "cell_type": "code",
      "execution_count": null,
      "id": "c22296e5-fdb5-4f4f-a096-da73970064fa",
      "metadata": {
        "tags": [],
        "id": "c22296e5-fdb5-4f4f-a096-da73970064fa",
        "outputId": "e596472d-041b-440a-e6b3-a92e5062181b"
      },
      "outputs": [
        {
          "name": "stdout",
          "output_type": "stream",
          "text": [
            "Most Used Tag\n",
            "   tag_id tag_name  no_tags\n",
            "0      21    smile       59\n"
          ]
        }
      ],
      "source": [
        "query = '''\n",
        "SELECT ques_4.tag_id,tags.tag_name,ques_4.no_tags\n",
        "FROM ques_4\n",
        "LEFT JOIN tags ON tags.id = ques_4.tag_id\n",
        "ORDER BY no_tags DESC;\n",
        "'''\n",
        "que_4_df = pd.read_sql(query,mydb)\n",
        "print(\"Most Used Tag\")\n",
        "print(que_4_df.head(1))"
      ]
    },
    {
      "cell_type": "code",
      "execution_count": null,
      "id": "bdf87646-4599-40bd-b6eb-c1af3044ac03",
      "metadata": {
        "tags": [],
        "id": "bdf87646-4599-40bd-b6eb-c1af3044ac03"
      },
      "outputs": [],
      "source": [
        "query = '''CREATE VIEW ques_5 AS\n",
        "SELECT DAY(created_at) AS day FROM users;\n",
        "'''\n",
        "que_5_df = pd.read_sql(query,mydb)\n",
        "print(que_5_df)"
      ]
    },
    {
      "cell_type": "code",
      "execution_count": null,
      "id": "74822252-7120-4aa1-a934-9089e526cf10",
      "metadata": {
        "tags": [],
        "id": "74822252-7120-4aa1-a934-9089e526cf10",
        "outputId": "cabd2fdb-a2df-4af0-eac4-091d2206d330"
      },
      "outputs": [
        {
          "name": "stdout",
          "output_type": "stream",
          "text": [
            "Day to launch AD\n",
            "   day  day_count\n",
            "0    6          8\n"
          ]
        }
      ],
      "source": [
        "query = '''\n",
        "SELECT day, COUNT(day) AS day_count\n",
        "FROM ques_5\n",
        "GROUP BY day\n",
        "HAVING COUNT(day) > 0\n",
        "ORDER BY COUNT(day) DESC;\n",
        "'''\n",
        "\n",
        "que_5_df = pd.read_sql(query,mydb)\n",
        "print(\"Day to launch AD\")\n",
        "print(que_5_df.head(1))"
      ]
    },
    {
      "cell_type": "code",
      "execution_count": null,
      "id": "b2baf431-49b3-4730-950d-aff8c0bccaa3",
      "metadata": {
        "tags": [],
        "id": "b2baf431-49b3-4730-950d-aff8c0bccaa3",
        "outputId": "60ee99bd-1b48-49a7-e6bc-313d69dd8ca4"
      },
      "outputs": [
        {
          "name": "stdout",
          "output_type": "stream",
          "text": [
            "     id              username  no_photos\n",
            "0     1         Kenton_Kirlin          5\n",
            "1     2         Andre_Purdy85          4\n",
            "2     3         Harley_Lind18          4\n",
            "3     4         Arely_Bogan63          3\n",
            "4     6         Travon.Waters          5\n",
            "..  ...                   ...        ...\n",
            "69   96  Keenan.Schamberger60          3\n",
            "70   97        Tomas.Beatty93          2\n",
            "71   98       Imani_Nicolas17          1\n",
            "72   99          Alek_Watsica          3\n",
            "73  100             Javonte83          2\n",
            "\n",
            "[74 rows x 3 columns]\n"
          ]
        }
      ],
      "source": [
        "query = '''SELECT users.id ,users.username, photos_by_users.no_photos\n",
        "FROM photos_by_users\n",
        "RIGHT JOIN users ON users.id =  photos_by_users.user_id\n",
        "WHERE photos_by_users.no_photos = (MAX(no_photos)+0)/\n",
        "ORDER BY no_photos ;'''\n",
        "que_6_df = pd.read_sql(query,mydb)\n",
        "print(que_6_df)"
      ]
    },
    {
      "cell_type": "code",
      "execution_count": null,
      "id": "3b72e472-982b-4b33-94d2-d2fc77d99f8d",
      "metadata": {
        "tags": [],
        "id": "3b72e472-982b-4b33-94d2-d2fc77d99f8d",
        "outputId": "1e5fe8e6-ada0-45c9-8da1-3ae6d639032d"
      },
      "outputs": [
        {
          "name": "stdout",
          "output_type": "stream",
          "text": [
            "     Sum\n",
            "0  257.0\n"
          ]
        }
      ],
      "source": [
        "query = \"SELECT SUM(no_photos) AS Sum FROM photos_by_users;\"\n",
        "que_6_df = pd.read_sql(query,mydb)\n",
        "print(que_6_df)"
      ]
    },
    {
      "cell_type": "code",
      "execution_count": null,
      "id": "51b5bd30-e702-415a-a023-aa954ccb7c6d",
      "metadata": {
        "tags": [],
        "id": "51b5bd30-e702-415a-a023-aa954ccb7c6d",
        "outputId": "e63827a9-5cf9-4dbb-b267-d967f2942b83"
      },
      "outputs": [
        {
          "name": "stdout",
          "output_type": "stream",
          "text": [
            "The total number of photos on Instagram/total number of users : \n",
            "2.57\n"
          ]
        }
      ],
      "source": [
        "print(\"The total number of photos on Instagram/total number of users : \" )\n",
        "print((que_6_df['Sum']/100)[0])"
      ]
    },
    {
      "cell_type": "code",
      "execution_count": null,
      "id": "034cfecd-f52f-4607-849d-d83085627ff9",
      "metadata": {
        "tags": [],
        "id": "034cfecd-f52f-4607-849d-d83085627ff9",
        "outputId": "4a35dcf3-8fba-43e0-f316-93661d71e3ad"
      },
      "outputs": [
        {
          "name": "stdout",
          "output_type": "stream",
          "text": [
            "Total number of photos are 257 Hence the user that like 257 photo will be BOT\n"
          ]
        }
      ],
      "source": [
        "query = \"SELECT COUNT(id) AS total_photos FROM photos\"\n",
        "que_7_df = pd.read_sql(query,mydb)\n",
        "print(f\"Total number of photos are {(que_7_df['total_photos'])[0]} Hence the user that like 257 photo will be BOT\")"
      ]
    },
    {
      "cell_type": "code",
      "execution_count": null,
      "id": "374042f6-bbb8-48b2-b81d-d7a7ce096ba9",
      "metadata": {
        "tags": [],
        "id": "374042f6-bbb8-48b2-b81d-d7a7ce096ba9",
        "outputId": "15af3720-ec7b-43a2-ebff-071c7ff3bd11"
      },
      "outputs": [
        {
          "name": "stdout",
          "output_type": "stream",
          "text": [
            "      user_id  photo_id          created_at\n",
            "0           2         1 2023-05-14 20:36:41\n",
            "1           2         4 2023-05-14 20:36:41\n",
            "2           2         8 2023-05-14 20:36:41\n",
            "3           2         9 2023-05-14 20:36:41\n",
            "4           2        10 2023-05-14 20:36:41\n",
            "...       ...       ...                 ...\n",
            "8777      100       245 2023-05-14 20:36:41\n",
            "8778      100       246 2023-05-14 20:36:41\n",
            "8779      100       248 2023-05-14 20:36:41\n",
            "8780      100       249 2023-05-14 20:36:41\n",
            "8781      100       255 2023-05-14 20:36:41\n",
            "\n",
            "[8782 rows x 3 columns]\n"
          ]
        }
      ],
      "source": [
        "query = \"SELECT * FROM likes\"\n",
        "que_7_df = pd.read_sql(query,mydb)\n",
        "print(que_7_df)"
      ]
    },
    {
      "cell_type": "code",
      "execution_count": null,
      "id": "642e12ec-5076-4c49-8597-85156d897a22",
      "metadata": {
        "tags": [],
        "id": "642e12ec-5076-4c49-8597-85156d897a22",
        "outputId": "e304b562-1010-4c48-eb42-71480b4f1896"
      },
      "outputs": [
        {
          "name": "stdout",
          "output_type": "stream",
          "text": [
            "Following Users Are BOT or Fake\n",
            "    user_id\n",
            "0         5\n",
            "1        14\n",
            "2        21\n",
            "3        24\n",
            "4        36\n",
            "5        41\n",
            "6        54\n",
            "7        57\n",
            "8        66\n",
            "9        71\n",
            "10       75\n",
            "11       76\n",
            "12       91\n"
          ]
        }
      ],
      "source": [
        "query = '''\n",
        "SELECT user_id\n",
        "FROM likes\n",
        "GROUP BY user_id\n",
        "HAVING COUNT(photo_id) = 257;\n",
        "'''\n",
        "que_7_df = pd.read_sql(query,mydb)\n",
        "print(\"Following Users Are BOT or Fake\")\n",
        "print(que_7_df)"
      ]
    },
    {
      "cell_type": "code",
      "execution_count": null,
      "id": "6f987e80-8480-4de4-9bc6-4fe886ceb7bd",
      "metadata": {
        "id": "6f987e80-8480-4de4-9bc6-4fe886ceb7bd"
      },
      "outputs": [],
      "source": []
    }
  ],
  "metadata": {
    "kernelspec": {
      "display_name": "Python 3 (ipykernel)",
      "language": "python",
      "name": "python3"
    },
    "language_info": {
      "codemirror_mode": {
        "name": "ipython",
        "version": 3
      },
      "file_extension": ".py",
      "mimetype": "text/x-python",
      "name": "python",
      "nbconvert_exporter": "python",
      "pygments_lexer": "ipython3",
      "version": "3.11.3"
    },
    "colab": {
      "provenance": []
    }
  },
  "nbformat": 4,
  "nbformat_minor": 5
}